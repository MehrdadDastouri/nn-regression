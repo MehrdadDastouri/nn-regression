{
  "nbformat": 4,
  "nbformat_minor": 0,
  "metadata": {
    "colab": {
      "provenance": [],
      "authorship_tag": "ABX9TyP40+tzYiQNjbBgeOuCagY7",
      "include_colab_link": true
    },
    "kernelspec": {
      "name": "python3",
      "display_name": "Python 3"
    },
    "language_info": {
      "name": "python"
    }
  },
  "cells": [
    {
      "cell_type": "markdown",
      "metadata": {
        "id": "view-in-github",
        "colab_type": "text"
      },
      "source": [
        "<a href=\"https://colab.research.google.com/github/MehrdadDastouri/nn-regression/blob/main/nn_regression.ipynb\" target=\"_parent\"><img src=\"https://colab.research.google.com/assets/colab-badge.svg\" alt=\"Open In Colab\"/></a>"
      ]
    },
    {
      "cell_type": "code",
      "execution_count": 1,
      "metadata": {
        "colab": {
          "base_uri": "https://localhost:8080/"
        },
        "id": "Mxu6f9hrbwj4",
        "outputId": "5389c94d-52aa-4804-9a44-fc90b289107d"
      },
      "outputs": [
        {
          "output_type": "stream",
          "name": "stdout",
          "text": [
            "Epoch [200/2000], Loss: 23.1450\n",
            "Epoch [400/2000], Loss: 11.8101\n",
            "Epoch [600/2000], Loss: 9.6480\n",
            "Epoch [800/2000], Loss: 4.7106\n",
            "Epoch [1000/2000], Loss: 4.8600\n",
            "Epoch [1200/2000], Loss: 9.3438\n",
            "Epoch [1400/2000], Loss: 7.3114\n",
            "Epoch [1600/2000], Loss: 6.9555\n",
            "Epoch [1800/2000], Loss: 6.1718\n",
            "Epoch [2000/2000], Loss: 7.9963\n",
            "\n",
            "Model parameters:\n",
            "hidden.weight: tensor([[-16.1989],\n",
            "        [ -0.6768],\n",
            "        [ -0.4165],\n",
            "        [ -0.3809],\n",
            "        [ -0.6473],\n",
            "        [-37.7472],\n",
            "        [ -0.7006],\n",
            "        [ -1.2350],\n",
            "        [ -0.9893],\n",
            "        [-25.4028]])\n",
            "hidden.bias: tensor([-1.6192,  6.3116, -0.8211, -0.9869, -0.8122, -4.8430,  1.1144, 11.5116,\n",
            "         0.5537, -3.4501])\n",
            "output.weight: tensor([[-24.9552,  -0.9972,   0.6781,  -0.2958,   0.1295, -70.9551,   0.2345,\n",
            "          -1.8104,  -0.1600, -17.0632]])\n",
            "output.bias: tensor([33.1627])\n",
            "\n",
            "Predictions on test data:\n",
            "tensor([[19.1268],\n",
            "        [23.4930],\n",
            "        [29.3147]], grad_fn=<AddmmBackward0>)\n"
          ]
        }
      ],
      "source": [
        "import torch\n",
        "import torch.nn as nn\n",
        "import torch.optim as optim\n",
        "\n",
        "# Generate synthetic data\n",
        "torch.manual_seed(42)\n",
        "X = torch.rand(100, 1) * 10  # 100 samples, 1 feature\n",
        "y = 3 * X + 7 + torch.randn(100, 1) * 2  # Linear relation with noise\n",
        "\n",
        "# Define a neural network for regression\n",
        "class NeuralNetwork(nn.Module):\n",
        "    def __init__(self):\n",
        "        super(NeuralNetwork, self).__init__()\n",
        "        self.hidden = nn.Linear(1, 10)  # Hidden layer with 10 neurons\n",
        "        self.output = nn.Linear(10, 1)  # Output layer with 1 neuron\n",
        "        self.activation = nn.ReLU()  # ReLU activation for hidden layer\n",
        "\n",
        "    def forward(self, x):\n",
        "        x = self.activation(self.hidden(x))  # Hidden layer + activation\n",
        "        x = self.output(x)  # Output layer (no activation for regression)\n",
        "        return x\n",
        "\n",
        "# Initialize the model\n",
        "model = NeuralNetwork()\n",
        "\n",
        "# Define the loss function (Mean Squared Error) and optimizer (Stochastic Gradient Descent)\n",
        "criterion = nn.MSELoss()\n",
        "optimizer = optim.SGD(model.parameters(), lr=0.01)\n",
        "\n",
        "# Training loop\n",
        "epochs = 2000\n",
        "for epoch in range(epochs):\n",
        "    # Forward pass: predict the output\n",
        "    y_pred = model(X)\n",
        "\n",
        "    # Compute the loss\n",
        "    loss = criterion(y_pred, y)\n",
        "\n",
        "    # Backward pass and optimization\n",
        "    optimizer.zero_grad()\n",
        "    loss.backward()\n",
        "    optimizer.step()\n",
        "\n",
        "    # Print loss every 200 epochs\n",
        "    if (epoch + 1) % 200 == 0:\n",
        "        print(f'Epoch [{epoch+1}/{epochs}], Loss: {loss.item():.4f}')\n",
        "\n",
        "# Print final parameters\n",
        "print(\"\\nModel parameters:\")\n",
        "for name, param in model.named_parameters():\n",
        "    print(f\"{name}: {param.data}\")\n",
        "\n",
        "# Test the model\n",
        "X_test = torch.tensor([[4.5], [6.0], [8.0]])\n",
        "y_test_pred = model(X_test)\n",
        "print(\"\\nPredictions on test data:\")\n",
        "print(y_test_pred)"
      ]
    }
  ]
}